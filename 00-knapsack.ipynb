{
 "cells": [
  {
   "cell_type": "markdown",
   "id": "c1152e23-db03-460e-ae66-8812d86cda3f",
   "metadata": {},
   "source": [
    "# Tell"
   ]
  },
  {
   "cell_type": "markdown",
   "id": "b162bc0b-9d1b-494d-b6fc-e92654437561",
   "metadata": {},
   "source": [
    "# Show"
   ]
  },
  {
   "cell_type": "code",
   "execution_count": 1,
   "id": "fab3815a-1d88-4a4b-a1e0-2ac59fcb122c",
   "metadata": {},
   "outputs": [],
   "source": [
    "import numpy\n",
    "import pandas\n",
    "import pulp"
   ]
  },
  {
   "cell_type": "code",
   "execution_count": 13,
   "id": "ddef64ea-0577-4370-94bb-45ae978020a1",
   "metadata": {},
   "outputs": [],
   "source": [
    "items = pandas.DataFrame.from_dict(\n",
    "    dict(\n",
    "        item_name = (\"pencils\", \"notebook\", \"extra paper\", \"pens\", \"water bottle\", \"chewing gum\", \"spare shoes\", \"lunch\", \"granola bar\"),\n",
    "        size = (1, 5, 3, 2, 8, 1, 10, 6, 4),\n",
    "        reward = (2, 2, 1, 1, 3, 1, 2, 2, 1),\n",
    "    )\n",
    ").set_index('item_name')"
   ]
  },
  {
   "cell_type": "code",
   "execution_count": 14,
   "id": "c96088cd-6110-4220-ae5d-2f8952a0b1d2",
   "metadata": {},
   "outputs": [
    {
     "data": {
      "text/html": [
       "<div>\n",
       "<style scoped>\n",
       "    .dataframe tbody tr th:only-of-type {\n",
       "        vertical-align: middle;\n",
       "    }\n",
       "\n",
       "    .dataframe tbody tr th {\n",
       "        vertical-align: top;\n",
       "    }\n",
       "\n",
       "    .dataframe thead th {\n",
       "        text-align: right;\n",
       "    }\n",
       "</style>\n",
       "<table border=\"1\" class=\"dataframe\">\n",
       "  <thead>\n",
       "    <tr style=\"text-align: right;\">\n",
       "      <th></th>\n",
       "      <th>size</th>\n",
       "      <th>reward</th>\n",
       "    </tr>\n",
       "    <tr>\n",
       "      <th>item_name</th>\n",
       "      <th></th>\n",
       "      <th></th>\n",
       "    </tr>\n",
       "  </thead>\n",
       "  <tbody>\n",
       "    <tr>\n",
       "      <th>pencils</th>\n",
       "      <td>1</td>\n",
       "      <td>2</td>\n",
       "    </tr>\n",
       "    <tr>\n",
       "      <th>notebook</th>\n",
       "      <td>5</td>\n",
       "      <td>2</td>\n",
       "    </tr>\n",
       "    <tr>\n",
       "      <th>extra paper</th>\n",
       "      <td>3</td>\n",
       "      <td>1</td>\n",
       "    </tr>\n",
       "    <tr>\n",
       "      <th>pens</th>\n",
       "      <td>2</td>\n",
       "      <td>1</td>\n",
       "    </tr>\n",
       "    <tr>\n",
       "      <th>water bottle</th>\n",
       "      <td>8</td>\n",
       "      <td>3</td>\n",
       "    </tr>\n",
       "    <tr>\n",
       "      <th>chewing gum</th>\n",
       "      <td>1</td>\n",
       "      <td>1</td>\n",
       "    </tr>\n",
       "    <tr>\n",
       "      <th>spare shoes</th>\n",
       "      <td>10</td>\n",
       "      <td>2</td>\n",
       "    </tr>\n",
       "    <tr>\n",
       "      <th>lunch</th>\n",
       "      <td>6</td>\n",
       "      <td>2</td>\n",
       "    </tr>\n",
       "    <tr>\n",
       "      <th>granola bar</th>\n",
       "      <td>4</td>\n",
       "      <td>1</td>\n",
       "    </tr>\n",
       "  </tbody>\n",
       "</table>\n",
       "</div>"
      ],
      "text/plain": [
       "              size  reward\n",
       "item_name                 \n",
       "pencils          1       2\n",
       "notebook         5       2\n",
       "extra paper      3       1\n",
       "pens             2       1\n",
       "water bottle     8       3\n",
       "chewing gum      1       1\n",
       "spare shoes     10       2\n",
       "lunch            6       2\n",
       "granola bar      4       1"
      ]
     },
     "execution_count": 14,
     "metadata": {},
     "output_type": "execute_result"
    }
   ],
   "source": [
    "items"
   ]
  },
  {
   "cell_type": "code",
   "execution_count": 15,
   "id": "ca1e2c0f-7b1a-4d4b-8ba3-a041363f6439",
   "metadata": {},
   "outputs": [],
   "source": [
    "knapsack = pulp.LpProblem(\"knapsack\", pulp.LpMaximize)"
   ]
  },
  {
   "cell_type": "code",
   "execution_count": 16,
   "id": "bed7756b-af60-4059-bc90-7cc9d8105928",
   "metadata": {},
   "outputs": [],
   "source": [
    "take_item_to_school = pulp.LpVariable.dicts(\"x\", items.index, lowBound=0, upBound=1, cat=pulp.LpInteger)"
   ]
  },
  {
   "cell_type": "code",
   "execution_count": 17,
   "id": "ed94d640-967d-4021-b960-71b1c5e89de8",
   "metadata": {},
   "outputs": [],
   "source": [
    "benefit = sum(\n",
    "    items.loc[item_name, 'reward'] * take_item_to_school[item_name] \n",
    "    for item_name in items.index\n",
    ")"
   ]
  },
  {
   "cell_type": "code",
   "execution_count": 18,
   "id": "c80436a1-193e-47d8-b4be-53629534cf39",
   "metadata": {},
   "outputs": [
    {
     "data": {
      "text/plain": [
       "1*x_chewing_gum + 1*x_extra_paper + 1*x_granola_bar + 2*x_lunch + 2*x_notebook + 2*x_pencils + 1*x_pens + 2*x_spare_shoes + 3*x_water_bottle + 0"
      ]
     },
     "execution_count": 18,
     "metadata": {},
     "output_type": "execute_result"
    }
   ],
   "source": [
    "benefit"
   ]
  },
  {
   "cell_type": "code",
   "execution_count": 19,
   "id": "f14f41f1-8c19-4c01-8fce-8dace201e97f",
   "metadata": {},
   "outputs": [],
   "source": [
    "knapsack += benefit"
   ]
  },
  {
   "cell_type": "code",
   "execution_count": 20,
   "id": "f686b1af-dc8e-45b9-9491-cec8a2ee9dc6",
   "metadata": {},
   "outputs": [],
   "source": [
    "capacity = sum(\n",
    "    items.loc[item_name, 'size'] * take_item_to_school[item_name] \n",
    "    for item_name in items.index\n",
    ")"
   ]
  },
  {
   "cell_type": "code",
   "execution_count": 21,
   "id": "e52d318b-7fdf-4a26-a07b-f25a3180bf87",
   "metadata": {},
   "outputs": [
    {
     "data": {
      "text/plain": [
       "1*x_chewing_gum + 3*x_extra_paper + 4*x_granola_bar + 6*x_lunch + 5*x_notebook + 1*x_pencils + 2*x_pens + 10*x_spare_shoes + 8*x_water_bottle + 0"
      ]
     },
     "execution_count": 21,
     "metadata": {},
     "output_type": "execute_result"
    }
   ],
   "source": [
    "capacity"
   ]
  },
  {
   "cell_type": "code",
   "execution_count": 22,
   "id": "d21c8c37-4056-4394-b2db-951d263b9e30",
   "metadata": {},
   "outputs": [],
   "source": [
    "knapsack += capacity <= 25"
   ]
  },
  {
   "cell_type": "code",
   "execution_count": 23,
   "id": "7661adfd-dffb-4ce9-966a-2f613f69dbbb",
   "metadata": {},
   "outputs": [
    {
     "name": "stdout",
     "output_type": "stream",
     "text": [
      "Welcome to the CBC MILP Solver \n",
      "Version: 2.10.10 \n",
      "Build Date: Apr 19 2023 \n",
      "\n",
      "command line - cbc /var/folders/g3/kfqgyscs7k59d1l6867ztwmh0000gn/T/e9a85b7ea6c94c5c81458e1c42676cc4-pulp.mps max timeMode elapsed branch printingOptions all solution /var/folders/g3/kfqgyscs7k59d1l6867ztwmh0000gn/T/e9a85b7ea6c94c5c81458e1c42676cc4-pulp.sol (default strategy 1)\n",
      "At line 2 NAME          MODEL\n",
      "At line 3 ROWS\n",
      "At line 6 COLUMNS\n",
      "At line 43 RHS\n",
      "At line 45 BOUNDS\n",
      "At line 55 ENDATA\n",
      "Problem MODEL has 1 rows, 9 columns and 9 elements\n",
      "Coin0008I MODEL read with 0 errors\n",
      "Option for timeMode changed from cpu to elapsed\n",
      "Continuous objective value is 11.6667 - 0.00 seconds\n",
      "Cgl0004I processed model has 1 rows, 9 columns (9 integer (9 of which binary)) and 9 elements\n",
      "Cutoff increment increased from 1e-05 to 0.9999\n",
      "Cbc0038I Initial state - 1 integers unsatisfied sum - 0.333333\n",
      "Cbc0038I Pass   1: suminf.    0.12500 (1) obj. 11.625 iterations 1\n",
      "Cbc0038I Solution found of 9\n",
      "Cbc0038I Rounding solution of 10 is better than previous of 9\n",
      "\n",
      "Cbc0038I Before mini branch and bound, 7 integers at bound fixed and 0 continuous\n",
      "Cbc0038I Full problem 1 rows 9 columns, reduced to 1 rows 2 columns\n",
      "Cbc0038I Mini branch and bound improved solution from 10 to 11 (0.00 seconds)\n",
      "Cbc0038I After 0.00 seconds - Feasibility pump exiting with objective of 11 - took 0.01 seconds\n",
      "Cbc0012I Integer solution of 11 found by feasibility pump after 0 iterations and 0 nodes (0.00 seconds)\n",
      "Cbc0001I Search completed - best objective 11, took 0 iterations and 0 nodes (0.00 seconds)\n",
      "Cbc0035I Maximum depth 0, 7 variables fixed on reduced cost\n",
      "Cuts at root node changed objective from 11.6667 to 11.6667\n",
      "Probing was tried 0 times and created 0 cuts of which 0 were active after adding rounds of cuts (0.000 seconds)\n",
      "Gomory was tried 0 times and created 0 cuts of which 0 were active after adding rounds of cuts (0.000 seconds)\n",
      "Knapsack was tried 0 times and created 0 cuts of which 0 were active after adding rounds of cuts (0.000 seconds)\n",
      "Clique was tried 0 times and created 0 cuts of which 0 were active after adding rounds of cuts (0.000 seconds)\n",
      "MixedIntegerRounding2 was tried 0 times and created 0 cuts of which 0 were active after adding rounds of cuts (0.000 seconds)\n",
      "FlowCover was tried 0 times and created 0 cuts of which 0 were active after adding rounds of cuts (0.000 seconds)\n",
      "TwoMirCuts was tried 0 times and created 0 cuts of which 0 were active after adding rounds of cuts (0.000 seconds)\n",
      "ZeroHalf was tried 0 times and created 0 cuts of which 0 were active after adding rounds of cuts (0.000 seconds)\n",
      "\n",
      "Result - Optimal solution found\n",
      "\n",
      "Objective value:                11.00000000\n",
      "Enumerated nodes:               0\n",
      "Total iterations:               0\n",
      "Time (CPU seconds):             0.01\n",
      "Time (Wallclock seconds):       0.00\n",
      "\n",
      "Option for printingOptions changed from normal to all\n",
      "Total time (CPU seconds):       0.02   (Wallclock seconds):       0.01\n",
      "\n"
     ]
    },
    {
     "data": {
      "text/plain": [
       "1"
      ]
     },
     "execution_count": 23,
     "metadata": {},
     "output_type": "execute_result"
    }
   ],
   "source": [
    "knapsack.solve()"
   ]
  },
  {
   "cell_type": "code",
   "execution_count": 44,
   "id": "e54af904-8c2f-4c0d-8217-c61e5908599f",
   "metadata": {},
   "outputs": [
    {
     "data": {
      "text/html": [
       "<div>\n",
       "<style scoped>\n",
       "    .dataframe tbody tr th:only-of-type {\n",
       "        vertical-align: middle;\n",
       "    }\n",
       "\n",
       "    .dataframe tbody tr th {\n",
       "        vertical-align: top;\n",
       "    }\n",
       "\n",
       "    .dataframe thead th {\n",
       "        text-align: right;\n",
       "    }\n",
       "</style>\n",
       "<table border=\"1\" class=\"dataframe\">\n",
       "  <thead>\n",
       "    <tr style=\"text-align: right;\">\n",
       "      <th></th>\n",
       "      <th>size</th>\n",
       "      <th>reward</th>\n",
       "      <th>was_taken</th>\n",
       "    </tr>\n",
       "    <tr>\n",
       "      <th>item_name</th>\n",
       "      <th></th>\n",
       "      <th></th>\n",
       "      <th></th>\n",
       "    </tr>\n",
       "  </thead>\n",
       "  <tbody>\n",
       "    <tr>\n",
       "      <th>pencils</th>\n",
       "      <td>1</td>\n",
       "      <td>2</td>\n",
       "      <td>1.0</td>\n",
       "    </tr>\n",
       "    <tr>\n",
       "      <th>notebook</th>\n",
       "      <td>5</td>\n",
       "      <td>2</td>\n",
       "      <td>1.0</td>\n",
       "    </tr>\n",
       "    <tr>\n",
       "      <th>extra paper</th>\n",
       "      <td>3</td>\n",
       "      <td>1</td>\n",
       "      <td>0.0</td>\n",
       "    </tr>\n",
       "    <tr>\n",
       "      <th>pens</th>\n",
       "      <td>2</td>\n",
       "      <td>1</td>\n",
       "      <td>1.0</td>\n",
       "    </tr>\n",
       "    <tr>\n",
       "      <th>water bottle</th>\n",
       "      <td>8</td>\n",
       "      <td>3</td>\n",
       "      <td>1.0</td>\n",
       "    </tr>\n",
       "    <tr>\n",
       "      <th>chewing gum</th>\n",
       "      <td>1</td>\n",
       "      <td>1</td>\n",
       "      <td>1.0</td>\n",
       "    </tr>\n",
       "    <tr>\n",
       "      <th>spare shoes</th>\n",
       "      <td>10</td>\n",
       "      <td>2</td>\n",
       "      <td>0.0</td>\n",
       "    </tr>\n",
       "    <tr>\n",
       "      <th>lunch</th>\n",
       "      <td>6</td>\n",
       "      <td>2</td>\n",
       "      <td>1.0</td>\n",
       "    </tr>\n",
       "    <tr>\n",
       "      <th>granola bar</th>\n",
       "      <td>4</td>\n",
       "      <td>1</td>\n",
       "      <td>0.0</td>\n",
       "    </tr>\n",
       "  </tbody>\n",
       "</table>\n",
       "</div>"
      ],
      "text/plain": [
       "              size  reward  was_taken\n",
       "item_name                            \n",
       "pencils          1       2        1.0\n",
       "notebook         5       2        1.0\n",
       "extra paper      3       1        0.0\n",
       "pens             2       1        1.0\n",
       "water bottle     8       3        1.0\n",
       "chewing gum      1       1        1.0\n",
       "spare shoes     10       2        0.0\n",
       "lunch            6       2        1.0\n",
       "granola bar      4       1        0.0"
      ]
     },
     "execution_count": 44,
     "metadata": {},
     "output_type": "execute_result"
    }
   ],
   "source": [
    "items.assign(was_taken = [take_item_to_school[item_name].varValue for item_name in items.index])"
   ]
  },
  {
   "cell_type": "markdown",
   "id": "da7143eb-84bf-4027-9850-f542dac41a07",
   "metadata": {},
   "source": [
    "## If I catch you without your gym shoes one more time...!"
   ]
  },
  {
   "cell_type": "code",
   "execution_count": 47,
   "id": "9524aeae-9c0a-4f0c-8fb5-d15210f2da55",
   "metadata": {},
   "outputs": [],
   "source": [
    "track_day = items.copy()\n",
    "track_day.loc['spare shoes', 'reward'] = 10"
   ]
  },
  {
   "cell_type": "markdown",
   "id": "35891de0-63e0-49b9-9851-9e1ccaf706a8",
   "metadata": {},
   "source": [
    "## The grand gum ban"
   ]
  },
  {
   "cell_type": "code",
   "execution_count": null,
   "id": "2e681868-0a4a-4e2c-9583-75b2cf23fc59",
   "metadata": {},
   "outputs": [],
   "source": [
    "gum_ban = items.copy()\n",
    "gum_ban.loc['spare shoes', 'reward'] = 10"
   ]
  },
  {
   "cell_type": "markdown",
   "id": "84bfd595-3f58-416e-bdb5-632af57e4a7e",
   "metadata": {},
   "source": [
    "## An Important Math Test"
   ]
  },
  {
   "cell_type": "code",
   "execution_count": 53,
   "id": "2c7680f6-3510-44b6-a93d-fd2568787a6e",
   "metadata": {},
   "outputs": [
    {
     "data": {
      "text/html": [
       "<div>\n",
       "<style scoped>\n",
       "    .dataframe tbody tr th:only-of-type {\n",
       "        vertical-align: middle;\n",
       "    }\n",
       "\n",
       "    .dataframe tbody tr th {\n",
       "        vertical-align: top;\n",
       "    }\n",
       "\n",
       "    .dataframe thead th {\n",
       "        text-align: right;\n",
       "    }\n",
       "</style>\n",
       "<table border=\"1\" class=\"dataframe\">\n",
       "  <thead>\n",
       "    <tr style=\"text-align: right;\">\n",
       "      <th></th>\n",
       "      <th>size</th>\n",
       "      <th>reward</th>\n",
       "    </tr>\n",
       "    <tr>\n",
       "      <th>item_name</th>\n",
       "      <th></th>\n",
       "      <th></th>\n",
       "    </tr>\n",
       "  </thead>\n",
       "  <tbody>\n",
       "    <tr>\n",
       "      <th>pencils</th>\n",
       "      <td>1</td>\n",
       "      <td>2</td>\n",
       "    </tr>\n",
       "    <tr>\n",
       "      <th>notebook</th>\n",
       "      <td>5</td>\n",
       "      <td>2</td>\n",
       "    </tr>\n",
       "    <tr>\n",
       "      <th>extra paper</th>\n",
       "      <td>3</td>\n",
       "      <td>1</td>\n",
       "    </tr>\n",
       "    <tr>\n",
       "      <th>pens</th>\n",
       "      <td>2</td>\n",
       "      <td>1</td>\n",
       "    </tr>\n",
       "    <tr>\n",
       "      <th>water bottle</th>\n",
       "      <td>8</td>\n",
       "      <td>3</td>\n",
       "    </tr>\n",
       "    <tr>\n",
       "      <th>chewing gum</th>\n",
       "      <td>1</td>\n",
       "      <td>1</td>\n",
       "    </tr>\n",
       "    <tr>\n",
       "      <th>spare shoes</th>\n",
       "      <td>10</td>\n",
       "      <td>10</td>\n",
       "    </tr>\n",
       "    <tr>\n",
       "      <th>lunch</th>\n",
       "      <td>6</td>\n",
       "      <td>2</td>\n",
       "    </tr>\n",
       "    <tr>\n",
       "      <th>granola bar</th>\n",
       "      <td>4</td>\n",
       "      <td>1</td>\n",
       "    </tr>\n",
       "    <tr>\n",
       "      <th>protractor</th>\n",
       "      <td>1</td>\n",
       "      <td>2</td>\n",
       "    </tr>\n",
       "    <tr>\n",
       "      <th>calculator</th>\n",
       "      <td>4</td>\n",
       "      <td>4</td>\n",
       "    </tr>\n",
       "    <tr>\n",
       "      <th>compass</th>\n",
       "      <td>2</td>\n",
       "      <td>2</td>\n",
       "    </tr>\n",
       "    <tr>\n",
       "      <th>garry gum</th>\n",
       "      <td>1</td>\n",
       "      <td>2</td>\n",
       "    </tr>\n",
       "  </tbody>\n",
       "</table>\n",
       "</div>"
      ],
      "text/plain": [
       "              size  reward\n",
       "item_name                 \n",
       "pencils          1       2\n",
       "notebook         5       2\n",
       "extra paper      3       1\n",
       "pens             2       1\n",
       "water bottle     8       3\n",
       "chewing gum      1       1\n",
       "spare shoes     10      10\n",
       "lunch            6       2\n",
       "granola bar      4       1\n",
       "protractor       1       2\n",
       "calculator       4       4\n",
       "compass          2       2\n",
       "garry gum        1       2"
      ]
     },
     "execution_count": 53,
     "metadata": {},
     "output_type": "execute_result"
    }
   ],
   "source": [
    "test_items = pandas.DataFrame.from_dict(\n",
    "    dict(\n",
    "        item_name = (\"protractor\", \"calculator\", \"pair of compasses\", \"garry gum\"),\n",
    "        size = (1, 4, 2, 1),\n",
    "        reward = (2, 4, 2, 2)\n",
    "        \n",
    "    )\n",
    ").set_index(\"item_name\")\n",
    "\n",
    "math_test = pandas.concat((items, test_items))\n",
    "math_test"
   ]
  },
  {
   "cell_type": "code",
   "execution_count": null,
   "id": "f03529ce-d82d-4c2e-8bb3-716bc5f5d817",
   "metadata": {},
   "outputs": [],
   "source": [
    "https://vimeo.com/77451201"
   ]
  },
  {
   "cell_type": "markdown",
   "id": "873229c0-d6f0-406d-832c-6e732faf5cb3",
   "metadata": {
    "jp-MarkdownHeadingCollapsed": true
   },
   "source": [
    "# Review"
   ]
  },
  {
   "cell_type": "code",
   "execution_count": null,
   "id": "4cea7f7d-8ba1-4cd5-9310-98820115588c",
   "metadata": {},
   "outputs": [],
   "source": []
  }
 ],
 "metadata": {
  "kernelspec": {
   "display_name": "Python 3 (ipykernel)",
   "language": "python",
   "name": "python3"
  },
  "language_info": {
   "codemirror_mode": {
    "name": "ipython",
    "version": 3
   },
   "file_extension": ".py",
   "mimetype": "text/x-python",
   "name": "python",
   "nbconvert_exporter": "python",
   "pygments_lexer": "ipython3",
   "version": "3.11.3"
  }
 },
 "nbformat": 4,
 "nbformat_minor": 5
}
