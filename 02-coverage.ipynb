{
 "cells": [
  {
   "cell_type": "markdown",
   "id": "18201f2e-155a-4067-800e-bd4a87f829c2",
   "metadata": {},
   "source": [
    "# Tell"
   ]
  },
  {
   "cell_type": "markdown",
   "id": "3917cb58-da73-4f3e-94d4-71b7b3ccd370",
   "metadata": {},
   "source": [
    "# Show"
   ]
  },
  {
   "cell_type": "markdown",
   "id": "e8d7647e-442a-4e42-97c6-bc3bc64e2358",
   "metadata": {},
   "source": [
    "# Show\n",
    "\n",
    "solve for polling locations in WECA"
   ]
  },
  {
   "cell_type": "markdown",
   "id": "133c3f7a-7136-49af-aced-b48262382616",
   "metadata": {},
   "source": [
    "# Do\n",
    "\n",
    "get x more polling locations\n",
    "\n",
    "backup polling locations\n",
    "\n",
    "..."
   ]
  },
  {
   "cell_type": "markdown",
   "id": "3622d733-fd1f-43de-9a21-849fbc57f807",
   "metadata": {},
   "source": [
    "# Review"
   ]
  }
 ],
 "metadata": {
  "kernelspec": {
   "display_name": "Python 3 (ipykernel)",
   "language": "python",
   "name": "python3"
  },
  "language_info": {
   "codemirror_mode": {
    "name": "ipython",
    "version": 3
   },
   "file_extension": ".py",
   "mimetype": "text/x-python",
   "name": "python",
   "nbconvert_exporter": "python",
   "pygments_lexer": "ipython3",
   "version": "3.11.3"
  }
 },
 "nbformat": 4,
 "nbformat_minor": 5
}
