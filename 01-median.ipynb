{
 "cells": [
  {
   "cell_type": "markdown",
   "id": "042eb71f-e4d1-41ea-8a64-7e7b9bc5baca",
   "metadata": {},
   "source": [
    "# Tell\n"
   ]
  },
  {
   "cell_type": "markdown",
   "id": "c07a80d3-d5f0-4a1c-bdf7-813e5e315fa2",
   "metadata": {},
   "source": [
    "# Show\n",
    "\n",
    "solve for parcel delivery in cornwall, using depots as locations"
   ]
  },
  {
   "cell_type": "markdown",
   "id": "6972697d-cee4-47b9-89a2-6a4af912cb9a",
   "metadata": {},
   "source": [
    "# Do\n",
    "\n",
    "adjust p\n",
    "\n",
    "adjust location\n",
    "\n",
    "adjust metric\n",
    "\n",
    "use exogenous sites"
   ]
  },
  {
   "cell_type": "markdown",
   "id": "6ad14267-73bc-48ec-a0e5-9d22df18c37d",
   "metadata": {},
   "source": [
    "# Review"
   ]
  },
  {
   "cell_type": "code",
   "execution_count": null,
   "id": "8e70d500-8151-4dff-9635-316cf05d08d3",
   "metadata": {},
   "outputs": [],
   "source": []
  }
 ],
 "metadata": {
  "kernelspec": {
   "display_name": "Python 3 (ipykernel)",
   "language": "python",
   "name": "python3"
  },
  "language_info": {
   "codemirror_mode": {
    "name": "ipython",
    "version": 3
   },
   "file_extension": ".py",
   "mimetype": "text/x-python",
   "name": "python",
   "nbconvert_exporter": "python",
   "pygments_lexer": "ipython3",
   "version": "3.11.3"
  }
 },
 "nbformat": 4,
 "nbformat_minor": 5
}
